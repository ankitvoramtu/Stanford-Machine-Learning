{
 "metadata": {
  "name": ""
 },
 "nbformat": 3,
 "nbformat_minor": 0,
 "worksheets": [
  {
   "cells": [
    {
     "cell_type": "code",
     "collapsed": false,
     "input": [
      "import pandas as pd\n",
      "import numpy as np\n",
      "from sklearn.linear_model import SGDRegressor\n",
      "from sklearn.preprocessing import StandardScaler\n",
      "\n",
      "%matplotlib inline\n",
      "import matplotlib.pyplot as plt\n",
      "plt.rcParams['figure.figsize'] = (10, 10)"
     ],
     "language": "python",
     "metadata": {},
     "outputs": [],
     "prompt_number": 2
    },
    {
     "cell_type": "code",
     "collapsed": false,
     "input": [
      "def scale_features(X, scalar=None):\n",
      "    if(len(X.shape) == 1):\n",
      "        X = X.reshape(-1, 1)\n",
      "    \n",
      "    if scalar == None:\n",
      "        scalar = StandardScaler()\n",
      "        scalar.fit(X)\n",
      "    \n",
      "    return scalar.transform(X), scalar"
     ],
     "language": "python",
     "metadata": {},
     "outputs": [],
     "prompt_number": 3
    },
    {
     "cell_type": "code",
     "collapsed": false,
     "input": [
      "dataset = pd.read_csv(\"Advertising.csv\")\n",
      "dataset = dataset[[\"TV\", \"Radio\", \"Newspaper\", \"Sales\"]]"
     ],
     "language": "python",
     "metadata": {},
     "outputs": [],
     "prompt_number": 6
    },
    {
     "cell_type": "code",
     "collapsed": false,
     "input": [
      "dataset_size = len(dataset)\n",
      "training_size = np.floor(dataset_size * 0.6).astype(int)\n",
      "validation_size = np.floor(dataset_size * 0.2).astype(int)\n",
      "\n",
      "X_training = dataset[[\"TV\", \"Newspaper\"]][:training_size]\n",
      "y_training = dataset[\"Sales\"][:training_size]\n",
      "\n",
      "X_validation = dataset[[\"TV\", \"Newspaper\"]][training_size:training_size + validation_size]\n",
      "y_validation = dataset[\"Sales\"][training_size:training_size + validation_size]\n",
      "\n",
      "X_test = dataset[[\"TV\", \"Newspaper\"]][training_size:training_size + validation_size:]\n",
      "y_test = dataset[\"Sales\"][training_size:training_size + validation_size:]\n",
      "\n",
      "X_training, training_scalar = scale_features(X_training)\n",
      "X_validation,_ = scale_features(X_validation, scalar=training_scalar)\n",
      "X_test,_ = scale_features(X_test, scalar=training_scalar)"
     ],
     "language": "python",
     "metadata": {},
     "outputs": [],
     "prompt_number": 7
    },
    {
     "cell_type": "code",
     "collapsed": false,
     "input": [
      "model = SGDRegressor(loss = 'squared_loss')\n",
      "model.fit(X_training, y_training)\n",
      "\n",
      "w0 = model.intercept_\n",
      "w1 = model.coef_[0]\n",
      "w2 = model.coef_[1]\n",
      "\n",
      "print \"Trained model: y = %0.2f + %0.2fx\u2081 + %0.2fx\u2082\" % (w0, w1, w2)\n",
      "\n",
      "MSE = np.mean((y_test - model.predict(X_test)) ** 2)\n",
      "\n",
      "print \"The Test Data MSE is: %0.3f\" % (MSE)"
     ],
     "language": "python",
     "metadata": {},
     "outputs": [
      {
       "output_type": "stream",
       "stream": "stdout",
       "text": [
        "Trained model: y = 11.54 + 3.27x\u2081 + 0.86x\u2082\n",
        "The Test Data MSE is: 16.942\n"
       ]
      }
     ],
     "prompt_number": 8
    },
    {
     "cell_type": "code",
     "collapsed": false,
     "input": [
      "model = SGDRegressor(loss = 'squared_loss', alpha = 1)\n",
      "model.fit(X_training, y_training)\n",
      "\n",
      "w0 = model.intercept_\n",
      "w1 = model.coef_[0]\n",
      "w2 = model.coef_[1]\n",
      "\n",
      "print \"Trained model: y = %0.2f + %0.2fx\u2081 + %0.2fx\u2082\" % (w0, w1, w2)\n",
      "\n",
      "MSE = np.mean((y_test - model.predict(X_test)) ** 2)\n",
      "\n",
      "print \"The Test Data MSE is: %0.3f\" % (MSE)"
     ],
     "language": "python",
     "metadata": {},
     "outputs": [
      {
       "output_type": "stream",
       "stream": "stdout",
       "text": [
        "Trained model: y = 11.54 + 1.96x\u2081 + 0.49x\u2082\n",
        "The Test Data MSE is: 19.412\n"
       ]
      }
     ],
     "prompt_number": 11
    },
    {
     "cell_type": "heading",
     "level": 4,
     "metadata": {},
     "source": [
      "Testing for different alphas:"
     ]
    },
    {
     "cell_type": "code",
     "collapsed": false,
     "input": [
      "alphas = [0.00025, 0.00005, 0.0001, 0.0002, 0.0004]\n",
      "best_alpha = alphas[0]\n",
      "least_mse = float(\"inf\")\n",
      "\n",
      "for possible_alpha in alphas:\n",
      "    model = SGDRegressor(loss = 'squared_loss', alpha = possible_alpha)\n",
      "    model.fit(X_training, y_training)\n",
      "    \n",
      "    mse = np.mean((y_validation - model.predict(X_validation)) ** 2)\n",
      "    if mse <= least_mse:\n",
      "        least_mse = mse\n",
      "        best_alpha = possible_alpha\n",
      "        \n",
      "print \"The Best alpha is: %.4f\" % (best_alpha) \n",
      "        \n",
      "best_model = SGDRegressor(loss = 'squared_loss', alpha = best_alpha)\n",
      "best_model.fit(X_training, y_training)\n",
      "MSE = np.mean((y_test - best_model.predict(X_test)) ** 2)\n",
      "\n",
      "print \"The Test Data MSE is: %0.3f\" % (MSE)"
     ],
     "language": "python",
     "metadata": {},
     "outputs": [
      {
       "output_type": "stream",
       "stream": "stdout",
       "text": [
        "The Best alpha is: 0.0001\n",
        "The Test Data MSE is: 16.942\n"
       ]
      }
     ],
     "prompt_number": 13
    },
    {
     "cell_type": "heading",
     "level": 4,
     "metadata": {},
     "source": [
      "Testing for R2 Adjusted"
     ]
    },
    {
     "cell_type": "code",
     "collapsed": false,
     "input": [
      "model = SGDRegressor(loss = 'squared_loss', eta0 = 0.02)\n",
      "model.fit(X_training, y_training)\n",
      "\n",
      "w0 = model.intercept_\n",
      "w1 = model.coef_[0]\n",
      "w2 = model.coef_[1]\n",
      "\n",
      "print \"Trained model: y = %0.2f + %0.2fx\u2081 + %0.2fx\u2082\" % (w0, w1, w2)\n",
      "\n",
      "R2_adjusted = model.score(X_test, y_test)\n",
      "\n",
      "print \"The Model's Adjusted R^2 on Test Data is %0.2f\" % (R2_adjusted)"
     ],
     "language": "python",
     "metadata": {},
     "outputs": [
      {
       "output_type": "stream",
       "stream": "stdout",
       "text": [
        "Trained model: y = 13.86 + 3.95x\u2081 + 1.01x\u2082\n",
        "The Model's Adjusted R^2 on Test Data is 0.65\n"
       ]
      }
     ],
     "prompt_number": 14
    },
    {
     "cell_type": "code",
     "collapsed": false,
     "input": [],
     "language": "python",
     "metadata": {},
     "outputs": []
    }
   ],
   "metadata": {}
  }
 ]
}